{
 "cells": [
  {
   "cell_type": "markdown",
   "id": "b50fe903-a48b-4bed-b5a9-ee155886be81",
   "metadata": {},
   "source": [
    "# Data Science Tools and Ecosystem "
   ]
  },
  {
   "cell_type": "markdown",
   "id": "dd548cba-cb8e-45cb-a6f6-0d9c30569689",
   "metadata": {},
   "source": [
    "In this notebook, Data Science Tools and Ecosystem are summarized. \n"
   ]
  },
  {
   "cell_type": "markdown",
   "id": "fa854253-cf0d-46fd-8cac-0258037e1b92",
   "metadata": {},
   "source": [
    "Some of the popular languages that Data Scientists use are:\n",
    "\n",
    "1. Python\n",
    "2. R\n",
    "3. HTML"
   ]
  },
  {
   "cell_type": "markdown",
   "id": "e1a3c941-96a3-45c8-8e75-03457d977fdb",
   "metadata": {},
   "source": [
    "| Data Science Tools |\n",
    "|------------------ |\n",
    "| R |\n",
    "| Python |\n",
    "| Jupyter Notebook | "
   ]
  },
  {
   "cell_type": "markdown",
   "id": "03641d2d-9843-4562-8e0e-c81d808b6feb",
   "metadata": {},
   "source": [
    "### Below are a few examples of evaluating arithmetic expressions in Python"
   ]
  },
  {
   "cell_type": "code",
   "execution_count": 5,
   "id": "68a52327-5746-4f8b-92bd-aee225fe6971",
   "metadata": {},
   "outputs": [
    {
     "data": {
      "text/plain": [
       "17"
      ]
     },
     "execution_count": 5,
     "metadata": {},
     "output_type": "execute_result"
    }
   ],
   "source": [
    "#This a simple arithmetic expression to mutiply then add integers\n",
    "(3*4)+5"
   ]
  },
  {
   "cell_type": "code",
   "execution_count": 12,
   "id": "e4720eb8-191b-433b-85f9-fe0286274719",
   "metadata": {},
   "outputs": [
    {
     "name": "stdout",
     "output_type": "stream",
     "text": [
      "3.3333333333333335\n"
     ]
    }
   ],
   "source": [
    "#This will convert 200 minutes to hours by dividing by 60\n",
    "#hours=minutes/60\n",
    "minutes=200\n",
    "hour=minutes/60\n",
    "print(hour)"
   ]
  },
  {
   "cell_type": "markdown",
   "id": "4d4ec8f9-a211-4382-8c8b-e85466607e96",
   "metadata": {},
   "source": [
    "**Objectives:**\n",
    "* List of Popular Languages used by Data Scientists\n",
    "* Worked with Table\n",
    "* Simple arithmetrics "
   ]
  },
  {
   "cell_type": "markdown",
   "id": "a3fe6d1a-c8c9-47f3-970c-828ad2d402f3",
   "metadata": {},
   "source": [
    "## Author\n",
    "Yomi Ladipo"
   ]
  },
  {
   "cell_type": "code",
   "execution_count": null,
   "id": "6d8fc119-ce1c-48c7-978c-0d1453138c8d",
   "metadata": {},
   "outputs": [],
   "source": []
  }
 ],
 "metadata": {
  "kernelspec": {
   "display_name": "Python 3 (ipykernel)",
   "language": "python",
   "name": "python3"
  },
  "language_info": {
   "codemirror_mode": {
    "name": "ipython",
    "version": 3
   },
   "file_extension": ".py",
   "mimetype": "text/x-python",
   "name": "python",
   "nbconvert_exporter": "python",
   "pygments_lexer": "ipython3",
   "version": "3.12.7"
  }
 },
 "nbformat": 4,
 "nbformat_minor": 5
}
